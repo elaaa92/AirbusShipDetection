{
 "cells": [
  {
   "cell_type": "code",
   "execution_count": null,
   "metadata": {},
   "outputs": [],
   "source": [
    "from ships_classifier import ShipsClassifier\n",
    "from matplotlib import pyplot\n",
    "from os import listdir, getcwd\n",
    "from os.path import isfile, join, isdir\n",
    "from sys import path\n",
    "import numpy as np\n",
    "import re\n",
    "import tensorflow as tf\n",
    "\n",
    "model_path = \"./models/model\"\n",
    "input_path = \"./Challenge/test/\"\n",
    "#Get available models\n",
    "models = [f for f in listdir(model_path) if isdir(join(model_path, f)) and \"fine\" in f]\n",
    "#Get images from directory\n",
    "image_files = [f for f in listdir(input_path) if isfile(join(input_path, f))]\n",
    "image_files.sort()\n",
    "nfiles=len(image_files)\n",
    "\n",
    "model = models[-1]\n",
    "sc = ShipsClassifier(model)\n",
    "\n",
    "for filename in image_files:\n",
    "    img = pyplot.imread(input_path+filename)\n",
    "    (boxes, scores, classes, num) = sc.get_classification(img)\n",
    "    #There is a row for each class, but in this work there is only one class\n",
    "    read = read+1\n",
    "    boxes = list(filter(lambda x: x.any(), boxes[0]))\n",
    "    if len(boxes) > 0:\n",
    "        print(zip(boxes,scores))\n"
   ]
  },
  {
   "cell_type": "code",
   "execution_count": 10,
   "metadata": {},
   "outputs": [
    {
     "name": "stdout",
     "output_type": "stream",
     "text": [
      "0\n"
     ]
    }
   ],
   "source": [
    "from os import listdir, getcwd\n",
    "from os.path import isfile, join, isdir\n",
    "from sys import path\n",
    "import numpy as np\n",
    "import re\n",
    "import tensorflow as tf\n",
    "print('0')"
   ]
  },
  {
   "cell_type": "code",
   "execution_count": 14,
   "metadata": {},
   "outputs": [
    {
     "name": "stdout",
     "output_type": "stream",
     "text": [
      "Testing model 14077\n",
      "1\n",
      "2\n"
     ]
    },
    {
     "ename": "SystemExit",
     "evalue": "",
     "output_type": "error",
     "traceback": [
      "An exception has occurred, use %tb to see the full traceback.\n",
      "\u001b[0;31mSystemExit\u001b[0m\n"
     ]
    },
    {
     "name": "stderr",
     "output_type": "stream",
     "text": [
      "/home/elisa/.local/lib/python2.7/site-packages/IPython/core/interactiveshell.py:2886: UserWarning: To exit: use 'exit', 'quit', or Ctrl-D.\n",
      "  warn(\"To exit: use 'exit', 'quit', or Ctrl-D.\", stacklevel=1)\n"
     ]
    }
   ],
   "source": [
    "def main(_):\n",
    "    model_path = \"./models/model\"\n",
    "    input_path = \"./Challenge/test/\"\n",
    "    output_path=\"./Challenge/submission/\"\n",
    "    #Get images from directory\n",
    "    image_files = [f for f in listdir(input_path) if isfile(join(input_path, f))]\n",
    "    image_files.sort()\n",
    "    nfiles=len(image_files)\n",
    "    model_id='14077'\n",
    "    subm = ''\n",
    "    print('Testing model '+model_id)\n",
    "    with open(output_path+'submission-'+str(model_id)+'ori.csv',\"r\") as f:\n",
    "        for filename in image_files:\n",
    "            flag = True\n",
    "            while flag:\n",
    "                row = f.readline()\n",
    "                fields = re.findall(filename+'\\,.+',row)\n",
    "                if len(fields)>0:\n",
    "                    for field in fields:\n",
    "                        subm = subm + field + '\\n'\n",
    "                else:\n",
    "                    subm = subm + filename+\", \\n\"\n",
    "                    flag = False\n",
    "    print('1')\n",
    "    with open(output_path+'submission-'+str(model_id)+'cor.csv',\"w\") as f:\n",
    "        f.write(subm)\n",
    "    print('2')\n",
    "if __name__ == '__main__':\n",
    "    tf.app.run()"
   ]
  },
  {
   "cell_type": "code",
   "execution_count": null,
   "metadata": {},
   "outputs": [],
   "source": []
  },
  {
   "cell_type": "code",
   "execution_count": null,
   "metadata": {},
   "outputs": [],
   "source": []
  },
  {
   "cell_type": "code",
   "execution_count": null,
   "metadata": {},
   "outputs": [],
   "source": []
  }
 ],
 "metadata": {
  "kernelspec": {
   "display_name": "Python 2",
   "language": "python",
   "name": "python2"
  },
  "language_info": {
   "codemirror_mode": {
    "name": "ipython",
    "version": 2
   },
   "file_extension": ".py",
   "mimetype": "text/x-python",
   "name": "python",
   "nbconvert_exporter": "python",
   "pygments_lexer": "ipython2",
   "version": "2.7.12"
  }
 },
 "nbformat": 4,
 "nbformat_minor": 2
}
